{
 "cells": [
  {
   "cell_type": "code",
   "execution_count": 2,
   "metadata": {},
   "outputs": [
    {
     "name": "stdout",
     "output_type": "stream",
     "text": [
      "0.23.3\n"
     ]
    }
   ],
   "source": [
    "import pandas as pd\n",
    "print(pd.__version__)\n",
    "import matplotlib.pyplot as plt\n"
   ]
  },
  {
   "cell_type": "code",
   "execution_count": 19,
   "metadata": {},
   "outputs": [
    {
     "name": "stdout",
     "output_type": "stream",
     "text": [
      "   id del estudiante  Puntaje en matemáticas  Edad  Género  \\\n",
      "0                  1                425.7097     5       0   \n",
      "1                  2                655.1362     9       0   \n",
      "2                  3                813.8574    10       0   \n",
      "3                  4                642.5794     9       0   \n",
      "4                  5                547.2859     6       0   \n",
      "\n",
      "   Educación de la madre  Hogar pobre  \n",
      "0                      0            0  \n",
      "1                      0            0  \n",
      "2                      0            0  \n",
      "3                      0            0  \n",
      "4                      0            1  \n",
      "   id del estudiante  Puntaje en matemáticas  Edad  Género  \\\n",
      "0                  1                672.5794     6       0   \n",
      "1                  2                455.7097    10       0   \n",
      "2                  3                685.1362    11       0   \n",
      "3                  4                843.8574    10       0   \n",
      "4                  5                672.5794     7       0   \n",
      "\n",
      "   Educación de la madre  Hogar pobre  Participación  \n",
      "0                      0            0              1  \n",
      "1                      0            0              1  \n",
      "2                      0            0              1  \n",
      "3                      0            0              1  \n",
      "4                      0            0              1  \n"
     ]
    }
   ],
   "source": [
    "# d12 = datos de 2012\n",
    "d12 = pd.read_csv('data/2.1_Datos_Inferencia_Causal-2012.csv', decimal=\",\")\n",
    "# d13 = datos de 2013\n",
    "d13 = pd.read_csv('data/2.1_Datos_Inferencia_Causal-2013.csv', decimal=\",\")\n",
    "\n",
    "print(d12.head(5))\n",
    "print(d13.head(5))"
   ]
  },
  {
   "cell_type": "code",
   "execution_count": 20,
   "metadata": {},
   "outputs": [
    {
     "name": "stdout",
     "output_type": "stream",
     "text": [
      "Descripción de las serie 2012\n"
     ]
    },
    {
     "data": {
      "text/html": [
       "<div>\n",
       "<style scoped>\n",
       "    .dataframe tbody tr th:only-of-type {\n",
       "        vertical-align: middle;\n",
       "    }\n",
       "\n",
       "    .dataframe tbody tr th {\n",
       "        vertical-align: top;\n",
       "    }\n",
       "\n",
       "    .dataframe thead th {\n",
       "        text-align: right;\n",
       "    }\n",
       "</style>\n",
       "<table border=\"1\" class=\"dataframe\">\n",
       "  <thead>\n",
       "    <tr style=\"text-align: right;\">\n",
       "      <th></th>\n",
       "      <th>id del estudiante</th>\n",
       "      <th>Puntaje en matemáticas</th>\n",
       "      <th>Edad</th>\n",
       "      <th>Género</th>\n",
       "      <th>Educación de la madre</th>\n",
       "      <th>Hogar pobre</th>\n",
       "    </tr>\n",
       "  </thead>\n",
       "  <tbody>\n",
       "    <tr>\n",
       "      <th>count</th>\n",
       "      <td>500.000000</td>\n",
       "      <td>500.000000</td>\n",
       "      <td>500.000000</td>\n",
       "      <td>500.000000</td>\n",
       "      <td>500.00000</td>\n",
       "      <td>500.000000</td>\n",
       "    </tr>\n",
       "    <tr>\n",
       "      <th>mean</th>\n",
       "      <td>250.500000</td>\n",
       "      <td>580.000001</td>\n",
       "      <td>6.872000</td>\n",
       "      <td>0.242000</td>\n",
       "      <td>0.13200</td>\n",
       "      <td>0.348000</td>\n",
       "    </tr>\n",
       "    <tr>\n",
       "      <th>std</th>\n",
       "      <td>144.481833</td>\n",
       "      <td>100.400002</td>\n",
       "      <td>2.048416</td>\n",
       "      <td>0.428723</td>\n",
       "      <td>0.33883</td>\n",
       "      <td>0.476813</td>\n",
       "    </tr>\n",
       "    <tr>\n",
       "      <th>min</th>\n",
       "      <td>1.000000</td>\n",
       "      <td>319.835100</td>\n",
       "      <td>5.000000</td>\n",
       "      <td>0.000000</td>\n",
       "      <td>0.00000</td>\n",
       "      <td>0.000000</td>\n",
       "    </tr>\n",
       "    <tr>\n",
       "      <th>25%</th>\n",
       "      <td>125.750000</td>\n",
       "      <td>511.870900</td>\n",
       "      <td>5.000000</td>\n",
       "      <td>0.000000</td>\n",
       "      <td>0.00000</td>\n",
       "      <td>0.000000</td>\n",
       "    </tr>\n",
       "    <tr>\n",
       "      <th>50%</th>\n",
       "      <td>250.500000</td>\n",
       "      <td>576.555900</td>\n",
       "      <td>6.000000</td>\n",
       "      <td>0.000000</td>\n",
       "      <td>0.00000</td>\n",
       "      <td>0.000000</td>\n",
       "    </tr>\n",
       "    <tr>\n",
       "      <th>75%</th>\n",
       "      <td>375.250000</td>\n",
       "      <td>646.989050</td>\n",
       "      <td>9.000000</td>\n",
       "      <td>0.000000</td>\n",
       "      <td>0.00000</td>\n",
       "      <td>1.000000</td>\n",
       "    </tr>\n",
       "    <tr>\n",
       "      <th>max</th>\n",
       "      <td>500.000000</td>\n",
       "      <td>845.532300</td>\n",
       "      <td>11.000000</td>\n",
       "      <td>1.000000</td>\n",
       "      <td>1.00000</td>\n",
       "      <td>1.000000</td>\n",
       "    </tr>\n",
       "  </tbody>\n",
       "</table>\n",
       "</div>"
      ],
      "text/plain": [
       "       id del estudiante  Puntaje en matemáticas        Edad      Género  \\\n",
       "count         500.000000              500.000000  500.000000  500.000000   \n",
       "mean          250.500000              580.000001    6.872000    0.242000   \n",
       "std           144.481833              100.400002    2.048416    0.428723   \n",
       "min             1.000000              319.835100    5.000000    0.000000   \n",
       "25%           125.750000              511.870900    5.000000    0.000000   \n",
       "50%           250.500000              576.555900    6.000000    0.000000   \n",
       "75%           375.250000              646.989050    9.000000    0.000000   \n",
       "max           500.000000              845.532300   11.000000    1.000000   \n",
       "\n",
       "       Educación de la madre  Hogar pobre  \n",
       "count              500.00000   500.000000  \n",
       "mean                 0.13200     0.348000  \n",
       "std                  0.33883     0.476813  \n",
       "min                  0.00000     0.000000  \n",
       "25%                  0.00000     0.000000  \n",
       "50%                  0.00000     0.000000  \n",
       "75%                  0.00000     1.000000  \n",
       "max                  1.00000     1.000000  "
      ]
     },
     "execution_count": 20,
     "metadata": {},
     "output_type": "execute_result"
    }
   ],
   "source": [
    "print('Descripción de las serie 2012')\n",
    "d12.describe()"
   ]
  },
  {
   "cell_type": "code",
   "execution_count": 39,
   "metadata": {},
   "outputs": [
    {
     "name": "stdout",
     "output_type": "stream",
     "text": [
      "Descripción de las serie 2013\n"
     ]
    },
    {
     "data": {
      "text/html": [
       "<div>\n",
       "<style scoped>\n",
       "    .dataframe tbody tr th:only-of-type {\n",
       "        vertical-align: middle;\n",
       "    }\n",
       "\n",
       "    .dataframe tbody tr th {\n",
       "        vertical-align: top;\n",
       "    }\n",
       "\n",
       "    .dataframe thead th {\n",
       "        text-align: right;\n",
       "    }\n",
       "</style>\n",
       "<table border=\"1\" class=\"dataframe\">\n",
       "  <thead>\n",
       "    <tr style=\"text-align: right;\">\n",
       "      <th></th>\n",
       "      <th>id del estudiante</th>\n",
       "      <th>Puntaje en matemáticas</th>\n",
       "      <th>Edad</th>\n",
       "      <th>Género</th>\n",
       "      <th>Educación de la madre</th>\n",
       "      <th>Hogar pobre</th>\n",
       "      <th>Participación</th>\n",
       "    </tr>\n",
       "  </thead>\n",
       "  <tbody>\n",
       "    <tr>\n",
       "      <th>count</th>\n",
       "      <td>500.000000</td>\n",
       "      <td>500.000000</td>\n",
       "      <td>500.000000</td>\n",
       "      <td>500.000000</td>\n",
       "      <td>500.00000</td>\n",
       "      <td>500.000000</td>\n",
       "      <td>500.000000</td>\n",
       "    </tr>\n",
       "    <tr>\n",
       "      <th>mean</th>\n",
       "      <td>250.500000</td>\n",
       "      <td>610.010081</td>\n",
       "      <td>7.872000</td>\n",
       "      <td>0.242000</td>\n",
       "      <td>0.13200</td>\n",
       "      <td>0.306000</td>\n",
       "      <td>0.500000</td>\n",
       "    </tr>\n",
       "    <tr>\n",
       "      <th>std</th>\n",
       "      <td>144.481833</td>\n",
       "      <td>100.406041</td>\n",
       "      <td>2.048416</td>\n",
       "      <td>0.428723</td>\n",
       "      <td>0.33883</td>\n",
       "      <td>0.461291</td>\n",
       "      <td>0.500501</td>\n",
       "    </tr>\n",
       "    <tr>\n",
       "      <th>min</th>\n",
       "      <td>1.000000</td>\n",
       "      <td>349.835100</td>\n",
       "      <td>6.000000</td>\n",
       "      <td>0.000000</td>\n",
       "      <td>0.00000</td>\n",
       "      <td>0.000000</td>\n",
       "      <td>0.000000</td>\n",
       "    </tr>\n",
       "    <tr>\n",
       "      <th>25%</th>\n",
       "      <td>125.750000</td>\n",
       "      <td>541.870925</td>\n",
       "      <td>6.000000</td>\n",
       "      <td>0.000000</td>\n",
       "      <td>0.00000</td>\n",
       "      <td>0.000000</td>\n",
       "      <td>0.000000</td>\n",
       "    </tr>\n",
       "    <tr>\n",
       "      <th>50%</th>\n",
       "      <td>250.500000</td>\n",
       "      <td>606.555900</td>\n",
       "      <td>7.000000</td>\n",
       "      <td>0.000000</td>\n",
       "      <td>0.00000</td>\n",
       "      <td>0.000000</td>\n",
       "      <td>0.500000</td>\n",
       "    </tr>\n",
       "    <tr>\n",
       "      <th>75%</th>\n",
       "      <td>375.250000</td>\n",
       "      <td>676.989050</td>\n",
       "      <td>10.000000</td>\n",
       "      <td>0.000000</td>\n",
       "      <td>0.00000</td>\n",
       "      <td>1.000000</td>\n",
       "      <td>1.000000</td>\n",
       "    </tr>\n",
       "    <tr>\n",
       "      <th>max</th>\n",
       "      <td>500.000000</td>\n",
       "      <td>875.532300</td>\n",
       "      <td>12.000000</td>\n",
       "      <td>1.000000</td>\n",
       "      <td>1.00000</td>\n",
       "      <td>1.000000</td>\n",
       "      <td>1.000000</td>\n",
       "    </tr>\n",
       "  </tbody>\n",
       "</table>\n",
       "</div>"
      ],
      "text/plain": [
       "       id del estudiante  Puntaje en matemáticas        Edad      Género  \\\n",
       "count         500.000000              500.000000  500.000000  500.000000   \n",
       "mean          250.500000              610.010081    7.872000    0.242000   \n",
       "std           144.481833              100.406041    2.048416    0.428723   \n",
       "min             1.000000              349.835100    6.000000    0.000000   \n",
       "25%           125.750000              541.870925    6.000000    0.000000   \n",
       "50%           250.500000              606.555900    7.000000    0.000000   \n",
       "75%           375.250000              676.989050   10.000000    0.000000   \n",
       "max           500.000000              875.532300   12.000000    1.000000   \n",
       "\n",
       "       Educación de la madre  Hogar pobre  Participación  \n",
       "count              500.00000   500.000000     500.000000  \n",
       "mean                 0.13200     0.306000       0.500000  \n",
       "std                  0.33883     0.461291       0.500501  \n",
       "min                  0.00000     0.000000       0.000000  \n",
       "25%                  0.00000     0.000000       0.000000  \n",
       "50%                  0.00000     0.000000       0.500000  \n",
       "75%                  0.00000     1.000000       1.000000  \n",
       "max                  1.00000     1.000000       1.000000  "
      ]
     },
     "execution_count": 39,
     "metadata": {},
     "output_type": "execute_result"
    }
   ],
   "source": [
    "print('Descripción de las serie 2013')\n",
    "d13.describe()"
   ]
  },
  {
   "cell_type": "code",
   "execution_count": 1,
   "metadata": {},
   "outputs": [
    {
     "ename": "NameError",
     "evalue": "name 'plt' is not defined",
     "output_type": "error",
     "traceback": [
      "\u001b[0;31m---------------------------------------------------------------------------\u001b[0m",
      "\u001b[0;31mNameError\u001b[0m                                 Traceback (most recent call last)",
      "\u001b[0;32m<ipython-input-1-f9edef8316dc>\u001b[0m in \u001b[0;36m<module>\u001b[0;34m()\u001b[0m\n\u001b[1;32m      1\u001b[0m \u001b[0;31m# histograma de edades en 2012\u001b[0m\u001b[0;34m\u001b[0m\u001b[0;34m\u001b[0m\u001b[0m\n\u001b[1;32m      2\u001b[0m \u001b[0;31m# plt.hist(df.year[non_numberic_profits], bins=range(1955, 2006))\u001b[0m\u001b[0;34m\u001b[0m\u001b[0;34m\u001b[0m\u001b[0m\n\u001b[0;32m----> 3\u001b[0;31m \u001b[0mplt\u001b[0m\u001b[0;34m.\u001b[0m\u001b[0mhist\u001b[0m\u001b[0;34m(\u001b[0m\u001b[0md12\u001b[0m\u001b[0;34m.\u001b[0m\u001b[0mGénero\u001b[0m\u001b[0;34m)\u001b[0m\u001b[0;34m\u001b[0m\u001b[0m\n\u001b[0m",
      "\u001b[0;31mNameError\u001b[0m: name 'plt' is not defined"
     ]
    }
   ],
   "source": [
    "# histograma de edades en 2012\n",
    "# plt.hist(df.year[non_numberic_profits], bins=range(1955, 2006))\n",
    "plt.hist(d12.Edad)"
   ]
  },
  {
   "cell_type": "code",
   "execution_count": 44,
   "metadata": {},
   "outputs": [
    {
     "data": {
      "text/plain": [
       "(array([206.,  70.,   0.,  54.,   0.,  43.,  32.,   0.,  69.,  26.]),\n",
       " array([ 6. ,  6.6,  7.2,  7.8,  8.4,  9. ,  9.6, 10.2, 10.8, 11.4, 12. ]),\n",
       " <a list of 10 Patch objects>)"
      ]
     },
     "execution_count": 44,
     "metadata": {},
     "output_type": "execute_result"
    },
    {
     "data": {
      "image/png": "[encoded data removed]",
      "text/plain": [
       "<Figure size 432x288 with 1 Axes>"
      ]
     },
     "metadata": {},
     "output_type": "display_data"
    }
   ],
   "source": [
    "# histograma de edades en 2013\n",
    "# d13.Edad.value_counts()\n",
    "plt.hist(d13.Edad)"
   ]
  },
  {
   "cell_type": "code",
   "execution_count": 70,
   "metadata": {},
   "outputs": [
    {
     "name": "stdout",
     "output_type": "stream",
     "text": [
      "Promedio participantes 2013: 620.0201596\n"
     ]
    }
   ],
   "source": [
    "# Pregunta 2: ¿Cuál es la diferencia en el puntaje promedio en matemática de los 250 \n",
    "# participantes (Participación=1) en 2012 y 2013?\n",
    "participantes_2013_filter = d13['Participación']==1\n",
    "participantes_2013 = d13[participantes_2013_filter]\n",
    "promedio_puntaje_participantes_2013 = participantes_2013['Puntaje en matemáticas'].mean()\n",
    "print('Promedio participantes 2013: {}'.format(promedio_puntaje_participantes_2013))"
   ]
  },
  {
   "cell_type": "code",
   "execution_count": 72,
   "metadata": {},
   "outputs": [
    {
     "name": "stdout",
     "output_type": "stream",
     "text": [
      "Promedio en 2012 de los participantes 2013: 590.0000016000001\n"
     ]
    }
   ],
   "source": [
    "participantes_2012_filter = d12['id del estudiante'].isin(participantes_2013['id del estudiante'])\n",
    "participantes_2012 = d12[participantes_2012_filter]\n",
    "promedio_puntaje_participantes_2012 = participantes_2012['Puntaje en matemáticas'].mean()\n",
    "print('Promedio en 2012 de los participantes 2013: {}'.format(promedio_puntaje_participantes_2012))"
   ]
  },
  {
   "cell_type": "code",
   "execution_count": 76,
   "metadata": {},
   "outputs": [
    {
     "name": "stdout",
     "output_type": "stream",
     "text": [
      "Edades promedio: 2012=7.596, 2013=8.596\n"
     ]
    }
   ],
   "source": [
    "# Pregunta 4, tabla 2\n",
    "edad_promedio_2013_participantes = participantes_2013.Edad.mean()\n",
    "edad_promedio_2012_participantes = participantes_2012.Edad.mean()\n",
    "print('Edades promedio: 2012={}, 2013={}'.format(edad_promedio_2012_participantes, edad_promedio_2013_participantes))"
   ]
  },
  {
   "cell_type": "code",
   "execution_count": 78,
   "metadata": {},
   "outputs": [
    {
     "name": "stdout",
     "output_type": "stream",
     "text": [
      "Genero promedio: 2012=0.16, 2013=0.16\n"
     ]
    }
   ],
   "source": [
    "genero_promedio_2013_participantes = participantes_2013.Género.mean()\n",
    "genero_promedio_2012_participantes = participantes_2012.Género.mean()\n",
    "print('Genero promedio: 2012={}, 2013={}'.format(genero_promedio_2012_participantes, genero_promedio_2013_participantes))"
   ]
  },
  {
   "cell_type": "code",
   "execution_count": 80,
   "metadata": {},
   "outputs": [
    {
     "name": "stdout",
     "output_type": "stream",
     "text": [
      "Educación de la madre promedio: 2012=0.08, 2013=0.08\n"
     ]
    }
   ],
   "source": [
    "educmadre_promedio_2013_participantes = participantes_2013['Educación de la madre'].mean()\n",
    "educmadre_promedio_2012_participantes = participantes_2012['Educación de la madre'].mean()\n",
    "print('Educación de la madre promedio: 2012={}, 2013={}'.format(educmadre_promedio_2012_participantes, educmadre_promedio_2013_participantes))"
   ]
  },
  {
   "cell_type": "code",
   "execution_count": 81,
   "metadata": {},
   "outputs": [
    {
     "name": "stdout",
     "output_type": "stream",
     "text": [
      "Pobreza promedio: 2012=0.296, 2013=0.232\n"
     ]
    }
   ],
   "source": [
    "pobre_promedio_2013_participantes = participantes_2013['Hogar pobre'].mean()\n",
    "pobre_promedio_2012_participantes = participantes_2012['Hogar pobre'].mean()\n",
    "print('Pobreza promedio: 2012={}, 2013={}'.format(pobre_promedio_2012_participantes, pobre_promedio_2013_participantes))"
   ]
  }
 ],
 "metadata": {
  "kernelspec": {
   "display_name": "Python 3",
   "language": "python",
   "name": "python3"
  },
  "language_info": {
   "codemirror_mode": {
    "name": "ipython",
    "version": 3
   },
   "file_extension": ".py",
   "mimetype": "text/x-python",
   "name": "python",
   "nbconvert_exporter": "python",
   "pygments_lexer": "ipython3",
   "version": "3.6.5"
  }
 },
 "nbformat": 4,
 "nbformat_minor": 2
}
