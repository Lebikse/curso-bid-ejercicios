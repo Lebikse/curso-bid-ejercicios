{
 "cells": [
  {
   "cell_type": "code",
   "execution_count": 72,
   "metadata": {},
   "outputs": [
    {
     "data": {
      "text/html": [
       "<div>\n",
       "<style scoped>\n",
       "    .dataframe tbody tr th:only-of-type {\n",
       "        vertical-align: middle;\n",
       "    }\n",
       "\n",
       "    .dataframe tbody tr th {\n",
       "        vertical-align: top;\n",
       "    }\n",
       "\n",
       "    .dataframe thead th {\n",
       "        text-align: right;\n",
       "    }\n",
       "</style>\n",
       "<table border=\"1\" class=\"dataframe\">\n",
       "  <thead>\n",
       "    <tr style=\"text-align: right;\">\n",
       "      <th></th>\n",
       "      <th>id del estudiante</th>\n",
       "      <th>Puntaje en matemáticas 2013</th>\n",
       "      <th>Puntaje en matemáticas 2012</th>\n",
       "      <th>edad</th>\n",
       "      <th>género</th>\n",
       "      <th>Educación de la madre</th>\n",
       "      <th>Hogar pobre</th>\n",
       "      <th>Ingreso</th>\n",
       "      <th>Ventana</th>\n",
       "    </tr>\n",
       "  </thead>\n",
       "  <tbody>\n",
       "    <tr>\n",
       "      <th>count</th>\n",
       "      <td>250.000000</td>\n",
       "      <td>250.000000</td>\n",
       "      <td>250.000000</td>\n",
       "      <td>250.000000</td>\n",
       "      <td>250.000000</td>\n",
       "      <td>250.000000</td>\n",
       "      <td>250.0</td>\n",
       "      <td>250.000000</td>\n",
       "      <td>250.000000</td>\n",
       "    </tr>\n",
       "    <tr>\n",
       "      <th>mean</th>\n",
       "      <td>375.500000</td>\n",
       "      <td>611.997600</td>\n",
       "      <td>611.996800</td>\n",
       "      <td>9.272000</td>\n",
       "      <td>0.244000</td>\n",
       "      <td>0.204000</td>\n",
       "      <td>0.0</td>\n",
       "      <td>44.009600</td>\n",
       "      <td>0.400000</td>\n",
       "    </tr>\n",
       "    <tr>\n",
       "      <th>std</th>\n",
       "      <td>72.312977</td>\n",
       "      <td>80.796273</td>\n",
       "      <td>80.610472</td>\n",
       "      <td>2.673313</td>\n",
       "      <td>0.430354</td>\n",
       "      <td>0.403777</td>\n",
       "      <td>0.0</td>\n",
       "      <td>7.972003</td>\n",
       "      <td>0.490881</td>\n",
       "    </tr>\n",
       "    <tr>\n",
       "      <th>min</th>\n",
       "      <td>251.000000</td>\n",
       "      <td>387.600000</td>\n",
       "      <td>388.200000</td>\n",
       "      <td>6.000000</td>\n",
       "      <td>0.000000</td>\n",
       "      <td>0.000000</td>\n",
       "      <td>0.0</td>\n",
       "      <td>30.100000</td>\n",
       "      <td>0.000000</td>\n",
       "    </tr>\n",
       "    <tr>\n",
       "      <th>25%</th>\n",
       "      <td>313.250000</td>\n",
       "      <td>568.200000</td>\n",
       "      <td>568.200000</td>\n",
       "      <td>7.000000</td>\n",
       "      <td>0.000000</td>\n",
       "      <td>0.000000</td>\n",
       "      <td>0.0</td>\n",
       "      <td>36.125000</td>\n",
       "      <td>0.000000</td>\n",
       "    </tr>\n",
       "    <tr>\n",
       "      <th>50%</th>\n",
       "      <td>375.500000</td>\n",
       "      <td>606.650000</td>\n",
       "      <td>606.700000</td>\n",
       "      <td>8.500000</td>\n",
       "      <td>0.000000</td>\n",
       "      <td>0.000000</td>\n",
       "      <td>0.0</td>\n",
       "      <td>47.000000</td>\n",
       "      <td>0.000000</td>\n",
       "    </tr>\n",
       "    <tr>\n",
       "      <th>75%</th>\n",
       "      <td>437.750000</td>\n",
       "      <td>651.950000</td>\n",
       "      <td>651.875000</td>\n",
       "      <td>11.000000</td>\n",
       "      <td>0.000000</td>\n",
       "      <td>0.000000</td>\n",
       "      <td>0.0</td>\n",
       "      <td>50.700000</td>\n",
       "      <td>1.000000</td>\n",
       "    </tr>\n",
       "    <tr>\n",
       "      <th>max</th>\n",
       "      <td>500.000000</td>\n",
       "      <td>837.900000</td>\n",
       "      <td>837.400000</td>\n",
       "      <td>15.000000</td>\n",
       "      <td>1.000000</td>\n",
       "      <td>1.000000</td>\n",
       "      <td>0.0</td>\n",
       "      <td>56.900000</td>\n",
       "      <td>1.000000</td>\n",
       "    </tr>\n",
       "  </tbody>\n",
       "</table>\n",
       "</div>"
      ],
      "text/plain": [
       "       id del estudiante  Puntaje en matemáticas 2013  \\\n",
       "count         250.000000                   250.000000   \n",
       "mean          375.500000                   611.997600   \n",
       "std            72.312977                    80.796273   \n",
       "min           251.000000                   387.600000   \n",
       "25%           313.250000                   568.200000   \n",
       "50%           375.500000                   606.650000   \n",
       "75%           437.750000                   651.950000   \n",
       "max           500.000000                   837.900000   \n",
       "\n",
       "       Puntaje en matemáticas 2012        edad      género  \\\n",
       "count                   250.000000  250.000000  250.000000   \n",
       "mean                    611.996800    9.272000    0.244000   \n",
       "std                      80.610472    2.673313    0.430354   \n",
       "min                     388.200000    6.000000    0.000000   \n",
       "25%                     568.200000    7.000000    0.000000   \n",
       "50%                     606.700000    8.500000    0.000000   \n",
       "75%                     651.875000   11.000000    0.000000   \n",
       "max                     837.400000   15.000000    1.000000   \n",
       "\n",
       "       Educación de la madre  Hogar pobre     Ingreso     Ventana  \n",
       "count             250.000000        250.0  250.000000  250.000000  \n",
       "mean                0.204000          0.0   44.009600    0.400000  \n",
       "std                 0.403777          0.0    7.972003    0.490881  \n",
       "min                 0.000000          0.0   30.100000    0.000000  \n",
       "25%                 0.000000          0.0   36.125000    0.000000  \n",
       "50%                 0.000000          0.0   47.000000    0.000000  \n",
       "75%                 0.000000          0.0   50.700000    1.000000  \n",
       "max                 1.000000          0.0   56.900000    1.000000  "
      ]
     },
     "execution_count": 72,
     "metadata": {},
     "output_type": "execute_result"
    }
   ],
   "source": [
    "import pandas as pd\n",
    "import matplotlib.pyplot as plt\n",
    "\n",
    "npst = pd.read_csv('3.1Datos_RD_estudiantes_no_pobres_sin_tutor.csv', decimal=\",\")\n",
    "pct = pd.read_csv('3.1Datos_RD_estudiantes_pobres_con_tutor.csv', decimal=\",\")\n",
    "\n",
    "npst.describe()\n"
   ]
  },
  {
   "cell_type": "code",
   "execution_count": 19,
   "metadata": {},
   "outputs": [
    {
     "name": "stdout",
     "output_type": "stream",
     "text": [
      "Puntaje promedio no pobres sin tutor 2013: 611.9975999999999\n",
      "Puntaje promedio no pobres sin tutor 2012: 611.9968\n",
      "Puntaje promedio pobres con tutor 2013: 620.9984000000001\n",
      "Puntaje promedio pobres con tutor 2012: 587.9992\n"
     ]
    }
   ],
   "source": [
    "npst_pjt_2013 = npst['Puntaje en matemáticas 2013'].mean()\n",
    "npst_pjt_2012 = npst['Puntaje en matemáticas 2012'].mean()\n",
    "pct_pjt_2013 = pct['Puntaje en matemáticas 2013'].mean()\n",
    "pct_pjt_2012 = pct['Puntaje en matemáticas 2012'].mean()\n",
    "\n",
    "print('Puntaje promedio no pobres sin tutor 2013: {}'.format(npst_pjt_2013))\n",
    "print('Puntaje promedio no pobres sin tutor 2012: {}'.format(npst_pjt_2012))\n",
    "print('Puntaje promedio pobres con tutor 2013: {}'.format(pct_pjt_2013))\n",
    "print('Puntaje promedio pobres con tutor 2012: {}'.format(pct_pjt_2012))"
   ]
  },
  {
   "cell_type": "code",
   "execution_count": 25,
   "metadata": {},
   "outputs": [
    {
     "data": {
      "text/plain": [
       "0.204"
      ]
     },
     "execution_count": 25,
     "metadata": {},
     "output_type": "execute_result"
    }
   ],
   "source": [
    "npst.edad.mean()\n",
    "npst.género.mean()\n",
    "npst['Educación de la madre'].mean()\n"
   ]
  },
  {
   "cell_type": "code",
   "execution_count": 73,
   "metadata": {},
   "outputs": [
    {
     "data": {
      "text/html": [
       "<div>\n",
       "<style scoped>\n",
       "    .dataframe tbody tr th:only-of-type {\n",
       "        vertical-align: middle;\n",
       "    }\n",
       "\n",
       "    .dataframe tbody tr th {\n",
       "        vertical-align: top;\n",
       "    }\n",
       "\n",
       "    .dataframe thead th {\n",
       "        text-align: right;\n",
       "    }\n",
       "</style>\n",
       "<table border=\"1\" class=\"dataframe\">\n",
       "  <thead>\n",
       "    <tr style=\"text-align: right;\">\n",
       "      <th></th>\n",
       "      <th>id del estudiante</th>\n",
       "      <th>Puntaje en matemáticas 2013</th>\n",
       "      <th>Puntaje en matemáticas 2012</th>\n",
       "      <th>edad</th>\n",
       "      <th>género</th>\n",
       "      <th>Educación de la madre</th>\n",
       "      <th>Hogar pobre</th>\n",
       "      <th>Ingreso</th>\n",
       "      <th>Ventana</th>\n",
       "    </tr>\n",
       "  </thead>\n",
       "  <tbody>\n",
       "    <tr>\n",
       "      <th>count</th>\n",
       "      <td>250.000000</td>\n",
       "      <td>250.000000</td>\n",
       "      <td>250.000000</td>\n",
       "      <td>250.00000</td>\n",
       "      <td>250.000000</td>\n",
       "      <td>250.000000</td>\n",
       "      <td>250.0</td>\n",
       "      <td>250.000000</td>\n",
       "      <td>250.000000</td>\n",
       "    </tr>\n",
       "    <tr>\n",
       "      <th>mean</th>\n",
       "      <td>125.500000</td>\n",
       "      <td>620.998400</td>\n",
       "      <td>587.999200</td>\n",
       "      <td>7.48400</td>\n",
       "      <td>0.340000</td>\n",
       "      <td>0.260000</td>\n",
       "      <td>1.0</td>\n",
       "      <td>18.970000</td>\n",
       "      <td>0.400000</td>\n",
       "    </tr>\n",
       "    <tr>\n",
       "      <th>std</th>\n",
       "      <td>72.312977</td>\n",
       "      <td>100.073007</td>\n",
       "      <td>100.432772</td>\n",
       "      <td>1.58613</td>\n",
       "      <td>0.474659</td>\n",
       "      <td>0.439514</td>\n",
       "      <td>0.0</td>\n",
       "      <td>5.785089</td>\n",
       "      <td>0.490881</td>\n",
       "    </tr>\n",
       "    <tr>\n",
       "      <th>min</th>\n",
       "      <td>1.000000</td>\n",
       "      <td>383.200000</td>\n",
       "      <td>347.600000</td>\n",
       "      <td>6.00000</td>\n",
       "      <td>0.000000</td>\n",
       "      <td>0.000000</td>\n",
       "      <td>1.0</td>\n",
       "      <td>7.700000</td>\n",
       "      <td>0.000000</td>\n",
       "    </tr>\n",
       "    <tr>\n",
       "      <th>25%</th>\n",
       "      <td>63.250000</td>\n",
       "      <td>549.600000</td>\n",
       "      <td>519.050000</td>\n",
       "      <td>6.00000</td>\n",
       "      <td>0.000000</td>\n",
       "      <td>0.000000</td>\n",
       "      <td>1.0</td>\n",
       "      <td>14.425000</td>\n",
       "      <td>0.000000</td>\n",
       "    </tr>\n",
       "    <tr>\n",
       "      <th>50%</th>\n",
       "      <td>125.500000</td>\n",
       "      <td>618.900000</td>\n",
       "      <td>585.500000</td>\n",
       "      <td>7.00000</td>\n",
       "      <td>0.000000</td>\n",
       "      <td>0.000000</td>\n",
       "      <td>1.0</td>\n",
       "      <td>18.300000</td>\n",
       "      <td>0.000000</td>\n",
       "    </tr>\n",
       "    <tr>\n",
       "      <th>75%</th>\n",
       "      <td>187.750000</td>\n",
       "      <td>695.425000</td>\n",
       "      <td>663.650000</td>\n",
       "      <td>8.00000</td>\n",
       "      <td>1.000000</td>\n",
       "      <td>1.000000</td>\n",
       "      <td>1.0</td>\n",
       "      <td>24.100000</td>\n",
       "      <td>1.000000</td>\n",
       "    </tr>\n",
       "    <tr>\n",
       "      <th>max</th>\n",
       "      <td>250.000000</td>\n",
       "      <td>833.000000</td>\n",
       "      <td>803.000000</td>\n",
       "      <td>12.00000</td>\n",
       "      <td>1.000000</td>\n",
       "      <td>1.000000</td>\n",
       "      <td>1.0</td>\n",
       "      <td>30.000000</td>\n",
       "      <td>1.000000</td>\n",
       "    </tr>\n",
       "  </tbody>\n",
       "</table>\n",
       "</div>"
      ],
      "text/plain": [
       "       id del estudiante  Puntaje en matemáticas 2013  \\\n",
       "count         250.000000                   250.000000   \n",
       "mean          125.500000                   620.998400   \n",
       "std            72.312977                   100.073007   \n",
       "min             1.000000                   383.200000   \n",
       "25%            63.250000                   549.600000   \n",
       "50%           125.500000                   618.900000   \n",
       "75%           187.750000                   695.425000   \n",
       "max           250.000000                   833.000000   \n",
       "\n",
       "       Puntaje en matemáticas 2012       edad      género  \\\n",
       "count                   250.000000  250.00000  250.000000   \n",
       "mean                    587.999200    7.48400    0.340000   \n",
       "std                     100.432772    1.58613    0.474659   \n",
       "min                     347.600000    6.00000    0.000000   \n",
       "25%                     519.050000    6.00000    0.000000   \n",
       "50%                     585.500000    7.00000    0.000000   \n",
       "75%                     663.650000    8.00000    1.000000   \n",
       "max                     803.000000   12.00000    1.000000   \n",
       "\n",
       "       Educación de la madre  Hogar pobre     Ingreso     Ventana  \n",
       "count             250.000000        250.0  250.000000  250.000000  \n",
       "mean                0.260000          1.0   18.970000    0.400000  \n",
       "std                 0.439514          0.0    5.785089    0.490881  \n",
       "min                 0.000000          1.0    7.700000    0.000000  \n",
       "25%                 0.000000          1.0   14.425000    0.000000  \n",
       "50%                 0.000000          1.0   18.300000    0.000000  \n",
       "75%                 1.000000          1.0   24.100000    1.000000  \n",
       "max                 1.000000          1.0   30.000000    1.000000  "
      ]
     },
     "execution_count": 73,
     "metadata": {},
     "output_type": "execute_result"
    }
   ],
   "source": [
    "pct.describe()"
   ]
  },
  {
   "cell_type": "code",
   "execution_count": 51,
   "metadata": {},
   "outputs": [
    {
     "data": {
      "text/plain": [
       "0.26"
      ]
     },
     "execution_count": 51,
     "metadata": {},
     "output_type": "execute_result"
    }
   ],
   "source": [
    "pct.edad.mean()\n",
    "pct.género.mean()\n",
    "pct['Educación de la madre'].mean()\n"
   ]
  },
  {
   "cell_type": "code",
   "execution_count": 52,
   "metadata": {},
   "outputs": [
    {
     "name": "stdout",
     "output_type": "stream",
     "text": [
      "Sin tutor hasta 40 / desde 20: 100 - 100\n",
      "Edad prom: 7.5 - 7.51\n",
      "Genero prom: 0.31 - 0.31\n",
      "Educ madre prom: 0.22  - 0.19\n"
     ]
    }
   ],
   "source": [
    "filtro_sin_tutor_hasta_40 = npst.Ingreso < 40\n",
    "sin_tutor_hasta_40 = npst[filtro_con_tutor_desde_20]\n",
    "# sin_tutor_hasta_40.describe()\n",
    "\n",
    "filtro_con_tutor_desde_20 = pct.Ingreso > 20\n",
    "con_tutor_desde_20 = pct[filtro_con_tutor_desde_20]\n",
    "# con_tutor_desde_20.describe()\n",
    "\n",
    "print('Sin tutor hasta 40 / desde 20: {} - {}'.format(len(sin_tutor_hasta_40), len(con_tutor_desde_20)))\n",
    "print('Edad prom: {} - {}'.format(sin_tutor_hasta_40.edad.mean(), con_tutor_desde_20.edad.mean()))\n",
    "print('Genero prom: {} - {}'.format(sin_tutor_hasta_40.género.mean(), con_tutor_desde_20.género.mean()))\n",
    "print('Educ madre prom: {}  - {}'.format(sin_tutor_hasta_40['Educación de la madre'].mean(), con_tutor_desde_20['Educación de la madre'].mean()))"
   ]
  },
  {
   "cell_type": "code",
   "execution_count": 57,
   "metadata": {},
   "outputs": [
    {
     "data": {
      "text/plain": [
       "(array([15.,  0., 37.,  0.,  0., 31.,  0., 16.,  0.,  1.]),\n",
       " array([ 6. ,  6.4,  6.8,  7.2,  7.6,  8. ,  8.4,  8.8,  9.2,  9.6, 10. ]),\n",
       " <a list of 10 Patch objects>)"
      ]
     },
     "execution_count": 57,
     "metadata": {},
     "output_type": "execute_result"
    },
    {
     "data": {
      "image/png": "[encoded data removed]",
      "text/plain": [
       "<Figure size 432x288 with 1 Axes>"
      ]
     },
     "metadata": {},
     "output_type": "display_data"
    }
   ],
   "source": [
    "plt.hist(con_tutor_desde_20.edad)"
   ]
  },
  {
   "cell_type": "code",
   "execution_count": 71,
   "metadata": {},
   "outputs": [
    {
     "data": {
      "text/plain": [
       "(array([16.,  0., 36.,  0.,  0., 31.,  0., 16.,  0.,  1.]),\n",
       " array([ 6. ,  6.4,  6.8,  7.2,  7.6,  8. ,  8.4,  8.8,  9.2,  9.6, 10. ]),\n",
       " <a list of 10 Patch objects>)"
      ]
     },
     "execution_count": 71,
     "metadata": {},
     "output_type": "execute_result"
    },
    {
     "data": {
      "image/png": "[encoded data removed]",
      "text/plain": [
       "<Figure size 432x288 with 1 Axes>"
      ]
     },
     "metadata": {},
     "output_type": "display_data"
    }
   ],
   "source": [
    "plt.hist(sin_tutor_hasta_40.edad)"
   ]
  },
  {
   "cell_type": "code",
   "execution_count": 70,
   "metadata": {},
   "outputs": [
    {
     "data": {
      "image/png": "[encoded data removed]",
      "text/plain": [
       "<Figure size 432x288 with 1 Axes>"
      ]
     },
     "metadata": {},
     "output_type": "display_data"
    },
    {
     "data": {
      "image/png": "[encoded data removed]",
      "text/plain": [
       "<Figure size 432x288 with 1 Axes>"
      ]
     },
     "metadata": {},
     "output_type": "display_data"
    }
   ],
   "source": [
    "plt.scatter(npst.Ingreso, npst['Puntaje en matemáticas 2013'])  # , s=z*1000, alpha=0.5)\n",
    "plt.show()\n",
    "plt.scatter(pct.Ingreso, pct['Puntaje en matemáticas 2013'])  # , s=z*1000, alpha=0.5)\n",
    "plt.show()"
   ]
  },
  {
   "cell_type": "code",
   "execution_count": 69,
   "metadata": {},
   "outputs": [
    {
     "data": {
      "image/png": "[encoded data removed]",
      "text/plain": [
       "<Figure size 432x288 with 1 Axes>"
      ]
     },
     "metadata": {},
     "output_type": "display_data"
    },
    {
     "data": {
      "image/png": "[encoded data removed]",
      "text/plain": [
       "<Figure size 432x288 with 1 Axes>"
      ]
     },
     "metadata": {},
     "output_type": "display_data"
    }
   ],
   "source": [
    "plt.scatter(npst.Ingreso, npst['Puntaje en matemáticas 2012'])  # , alpha=0.5)\n",
    "plt.show()\n",
    "\n",
    "plt.scatter(pct.Ingreso, pct['Puntaje en matemáticas 2012'])\n",
    "plt.show()"
   ]
  }
 ],
 "metadata": {
  "kernelspec": {
   "display_name": "Python 3",
   "language": "python",
   "name": "python3"
  },
  "language_info": {
   "codemirror_mode": {
    "name": "ipython",
    "version": 3
   },
   "file_extension": ".py",
   "mimetype": "text/x-python",
   "name": "python",
   "nbconvert_exporter": "python",
   "pygments_lexer": "ipython3",
   "version": "3.6.5"
  }
 },
 "nbformat": 4,
 "nbformat_minor": 2
}
