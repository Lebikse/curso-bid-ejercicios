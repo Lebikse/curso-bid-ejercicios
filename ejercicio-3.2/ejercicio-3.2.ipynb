{
 "cells": [
  {
   "cell_type": "code",
   "execution_count": 36,
   "metadata": {
    "scrolled": true
   },
   "outputs": [
    {
     "data": {
      "text/html": [
       "<div>\n",
       "<style scoped>\n",
       "    .dataframe tbody tr th:only-of-type {\n",
       "        vertical-align: middle;\n",
       "    }\n",
       "\n",
       "    .dataframe tbody tr th {\n",
       "        vertical-align: top;\n",
       "    }\n",
       "\n",
       "    .dataframe thead th {\n",
       "        text-align: right;\n",
       "    }\n",
       "</style>\n",
       "<table border=\"1\" class=\"dataframe\">\n",
       "  <thead>\n",
       "    <tr style=\"text-align: right;\">\n",
       "      <th></th>\n",
       "      <th>Puntaje en matemáticas</th>\n",
       "      <th>Edad</th>\n",
       "      <th>Género</th>\n",
       "      <th>Educación de la madre</th>\n",
       "      <th>Hogar pobre</th>\n",
       "    </tr>\n",
       "    <tr>\n",
       "      <th>id del estudiante</th>\n",
       "      <th></th>\n",
       "      <th></th>\n",
       "      <th></th>\n",
       "      <th></th>\n",
       "      <th></th>\n",
       "    </tr>\n",
       "  </thead>\n",
       "  <tbody>\n",
       "    <tr>\n",
       "      <th>1</th>\n",
       "      <td>456.8</td>\n",
       "      <td>6</td>\n",
       "      <td>0</td>\n",
       "      <td>1</td>\n",
       "      <td>0</td>\n",
       "    </tr>\n",
       "    <tr>\n",
       "      <th>2</th>\n",
       "      <td>683.3</td>\n",
       "      <td>8</td>\n",
       "      <td>1</td>\n",
       "      <td>1</td>\n",
       "      <td>0</td>\n",
       "    </tr>\n",
       "    <tr>\n",
       "      <th>3</th>\n",
       "      <td>849.2</td>\n",
       "      <td>10</td>\n",
       "      <td>0</td>\n",
       "      <td>0</td>\n",
       "      <td>0</td>\n",
       "    </tr>\n",
       "    <tr>\n",
       "      <th>4</th>\n",
       "      <td>672.2</td>\n",
       "      <td>8</td>\n",
       "      <td>0</td>\n",
       "      <td>0</td>\n",
       "      <td>0</td>\n",
       "    </tr>\n",
       "    <tr>\n",
       "      <th>5</th>\n",
       "      <td>571.6</td>\n",
       "      <td>7</td>\n",
       "      <td>0</td>\n",
       "      <td>0</td>\n",
       "      <td>1</td>\n",
       "    </tr>\n",
       "  </tbody>\n",
       "</table>\n",
       "</div>"
      ],
      "text/plain": [
       "                  Puntaje en matemáticas Edad Género Educación de la madre  \\\n",
       "id del estudiante                                                            \n",
       "1                                  456.8    6      0                     1   \n",
       "2                                  683.3    8      1                     1   \n",
       "3                                  849.2   10      0                     0   \n",
       "4                                  672.2    8      0                     0   \n",
       "5                                  571.6    7      0                     0   \n",
       "\n",
       "                  Hogar pobre  \n",
       "id del estudiante              \n",
       "1                           0  \n",
       "2                           0  \n",
       "3                           0  \n",
       "4                           0  \n",
       "5                           1  "
      ]
     },
     "execution_count": 36,
     "metadata": {},
     "output_type": "execute_result"
    }
   ],
   "source": [
    "import pandas as pd\n",
    "import matplotlib.pyplot as plt\n",
    "\n",
    "# Leer los 6 datasets \n",
    "act17 = pd.read_excel('3.2_Diferencias_en_Diferencias_datos.xlsx', sheet_name='Alumnos con tutores 2017', header=4, index_col=0)\n",
    "ast17 = pd.read_excel('3.2_Diferencias_en_Diferencias_datos.xlsx', sheet_name='Alumnos sin tutores 2017', header=4, index_col=0)\n",
    "act16 = pd.read_excel('3.2_Diferencias_en_Diferencias_datos.xlsx', sheet_name='Alumnos con tutores 2016', header=4, index_col=0)\n",
    "ast16 = pd.read_excel('3.2_Diferencias_en_Diferencias_datos.xlsx', sheet_name='Alumnos sin tutores 2016', header=4, index_col=0)\n",
    "act15 = pd.read_excel('3.2_Diferencias_en_Diferencias_datos.xlsx', sheet_name='Alumnos con tutores 2015', header=4, index_col=0)\n",
    "ast15 = pd.read_excel('3.2_Diferencias_en_Diferencias_datos.xlsx', sheet_name='Alumnos sin tutores 2015', header=4, index_col=0)\n",
    "\n",
    "# quitar la primera fila con aclaraciones\n",
    "act17 = act17[1:]\n",
    "ast17 = ast17[1:]\n",
    "act16 = act16[1:]\n",
    "ast16 = ast16[1:]\n",
    "act15 = act15[1:]\n",
    "ast15 = ast15[1:]\n",
    "\n",
    "act17.head()"
   ]
  },
  {
   "cell_type": "code",
   "execution_count": 42,
   "metadata": {},
   "outputs": [
    {
     "name": "stdout",
     "output_type": "stream",
     "text": [
      "Promedio 2017 en matemáticas con tutor: 630.0003999999998, sin tutor: 600.0003999999999\n"
     ]
    }
   ],
   "source": [
    "# pregunta 1\n",
    "matem17_ct = act17['Puntaje en matemáticas'].mean()\n",
    "matem17_st = ast17['Puntaje en matemáticas'].mean()\n",
    "\n",
    "print('Promedio 2017 en matemáticas con tutor: {}, sin tutor: {}'.format(matem17_ct, matem17_st))"
   ]
  },
  {
   "cell_type": "code",
   "execution_count": 43,
   "metadata": {},
   "outputs": [
    {
     "name": "stdout",
     "output_type": "stream",
     "text": [
      "Edad grupo 2017 con tutor: 7.508, sin tutor: 10.476\n",
      "Género grupo 2017 con tutor: 0.272, sin tutor: 0.324\n"
     ]
    }
   ],
   "source": [
    "# quiero ver si son parecidos los grupos\n",
    "edad17_ct = act17.Edad.mean()\n",
    "edad17_st = ast17.Edad.mean()\n",
    "\n",
    "print('Edad grupo 2017 con tutor: {}, sin tutor: {}'.format(edad17_ct, edad17_st))\n",
    "\n",
    "genero17_ct = act17.Género.mean()\n",
    "genero17_st = ast17.Género.mean()\n",
    "\n",
    "print('Género grupo 2017 con tutor: {}, sin tutor: {}'.format(genero17_ct, genero17_st))"
   ]
  },
  {
   "cell_type": "code",
   "execution_count": 45,
   "metadata": {},
   "outputs": [
    {
     "name": "stdout",
     "output_type": "stream",
     "text": [
      "Promedio 2016 en matemáticas con tutor: 590.0003999999999, sin tutor: 580.0003999999997\n",
      "Promedio 2015 en matemáticas con tutor: 585.0003999999998, sin tutor: 575.0003999999997\n"
     ]
    }
   ],
   "source": [
    "matem16_ct = act16['Puntaje en matemáticas'].mean()\n",
    "matem16_st = ast16['Puntaje en matemáticas'].mean()\n",
    "\n",
    "print('Promedio 2016 en matemáticas con tutor: {}, sin tutor: {}'.format(matem16_ct, matem16_st))\n",
    "\n",
    "matem15_ct = act15['Puntaje en matemáticas'].mean()\n",
    "matem15_st = ast15['Puntaje en matemáticas'].mean()\n",
    "\n",
    "print('Promedio 2015 en matemáticas con tutor: {}, sin tutor: {}'.format(matem15_ct, matem15_st))"
   ]
  },
  {
   "cell_type": "code",
   "execution_count": 98,
   "metadata": {},
   "outputs": [
    {
     "data": {
      "text/plain": [
       "<matplotlib.axes._subplots.AxesSubplot at 0x7f918d66ab00>"
      ]
     },
     "execution_count": 98,
     "metadata": {},
     "output_type": "execute_result"
    },
    {
     "data": {
      "image/png": "[encoded data removed]",
      "text/plain": [
       "<Figure size 1152x360 with 1 Axes>"
      ]
     },
     "metadata": {},
     "output_type": "display_data"
    }
   ],
   "source": [
    "x = [2015, 2016, 2017]\n",
    "y1 = [matem15_ct, matem16_ct, matem17_ct]\n",
    "y2 = [matem15_st, matem16_st, matem17_st]\n",
    "\n",
    "y = [[y1], [y2]]\n",
    "\n",
    "y1d = {'2015': matem15_ct, '2016': matem16_ct, '2017': matem17_ct}\n",
    "y2d = {'2015': matem15_st, '2016': matem16_st, '2017': matem17_st}\n",
    "\n",
    "d = {'Con tutor': y1d, 'Sin tutor': y2d}\n",
    "df = pd.DataFrame(data=d)\n",
    "\n",
    "df.plot(title='Evolucion de puntajes con y sin tutor', figsize=[16,5])"
   ]
  },
  {
   "cell_type": "code",
   "execution_count": 95,
   "metadata": {},
   "outputs": [
    {
     "data": {
      "image/png": "[encoded data removed]",
      "text/plain": [
       "<Figure size 1152x360 with 1 Axes>"
      ]
     },
     "metadata": {},
     "output_type": "display_data"
    }
   ],
   "source": [
    "fig_size = [16, 5]\n",
    "plt.rcParams[\"figure.figsize\"] = fig_size\n",
    "\n",
    "plt.scatter(x, y1)\n",
    "plt.show()"
   ]
  }
 ],
 "metadata": {
  "kernelspec": {
   "display_name": "Python 3",
   "language": "python",
   "name": "python3"
  },
  "language_info": {
   "codemirror_mode": {
    "name": "ipython",
    "version": 3
   },
   "file_extension": ".py",
   "mimetype": "text/x-python",
   "name": "python",
   "nbconvert_exporter": "python",
   "pygments_lexer": "ipython3",
   "version": "3.6.5"
  }
 },
 "nbformat": 4,
 "nbformat_minor": 2
}
