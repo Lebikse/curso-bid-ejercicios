{
 "cells": [
  {
   "cell_type": "code",
   "execution_count": 2,
   "metadata": {},
   "outputs": [
    {
     "name": "stdout",
     "output_type": "stream",
     "text": [
      "0.23.3\n"
     ]
    }
   ],
   "source": [
    "import pandas as pd\n",
    "print(pd.__version__)\n",
    "import matplotlib.pyplot as plt\n"
   ]
  },
  {
   "cell_type": "code",
   "execution_count": 5,
   "metadata": {},
   "outputs": [
    {
     "name": "stdout",
     "output_type": "stream",
     "text": [
      "   id del estudiante  Puntaje en matemáticas 2013  \\\n",
      "0                  1                        446.8   \n",
      "1                  2                        673.3   \n",
      "2                  3                        839.2   \n",
      "3                  4                        662.2   \n",
      "4                  5                        561.6   \n",
      "\n",
      "   Puntaje en matemáticas 2012  Edad  Género  Educación de la madre  \\\n",
      "0                        409.5     6       0                      0   \n",
      "1                        641.6    10       0                      0   \n",
      "2                        811.6    11       0                      0   \n",
      "3                        630.3    10       0                      0   \n",
      "4                        527.8     7       0                      0   \n",
      "\n",
      "   Hogar pobre  \n",
      "0            0  \n",
      "1            0  \n",
      "2            0  \n",
      "3            0  \n",
      "4            0  \n",
      "   id del estudiante  Puntaje en matemáticas 2013  \\\n",
      "0                251                        426.8   \n",
      "1                252                        653.3   \n",
      "2                253                        819.2   \n",
      "3                254                        642.2   \n",
      "4                255                        541.6   \n",
      "\n",
      "   Puntaje en matemáticas 2012  Edad  Género  Educación de la madre  \\\n",
      "0                     414.7263     6       0                      0   \n",
      "1                     651.3687     9       0                      0   \n",
      "2                     814.0183    12       0                      0   \n",
      "3                     634.1158     9       0                      0   \n",
      "4                     535.9126     6       0                      0   \n",
      "\n",
      "   Hogar pobre  \n",
      "0            0  \n",
      "1            0  \n",
      "2            0  \n",
      "3            0  \n",
      "4            0  \n"
     ]
    }
   ],
   "source": [
    "grupo_tratamiento = pd.read_csv('data/2.2_Datos_Aleatorizacion_tratamiento.csv', decimal=\",\")\n",
    "grupo_control = pd.read_csv('data/2.2_Datos_Aleatorizacion_control.csv', decimal=\",\")\n",
    "\n",
    "print(grupo_tratamiento.head(5))\n",
    "print(grupo_control.head(5))"
   ]
  },
  {
   "cell_type": "code",
   "execution_count": 11,
   "metadata": {},
   "outputs": [
    {
     "name": "stdout",
     "output_type": "stream",
     "text": [
      "Edades promedio: Tratam: 7.992 Control: 8.02\n"
     ]
    }
   ],
   "source": [
    "grupo_tratamiento_edad_prom = grupo_tratamiento.Edad.mean()\n",
    "grupo_control_edad_prom = grupo_control.Edad.mean()\n",
    "print('Edades promedio: Tratam: {} Control: {}'.format(grupo_tratamiento_edad_prom, grupo_control_edad_prom))\n"
   ]
  },
  {
   "cell_type": "code",
   "execution_count": 12,
   "metadata": {},
   "outputs": [
    {
     "name": "stdout",
     "output_type": "stream",
     "text": [
      "Edades promedio: Tratam: 0.256 Control: 0.26\n"
     ]
    }
   ],
   "source": [
    "grupo_tratamiento_genero_prom = grupo_tratamiento.Género.mean()\n",
    "grupo_control_genero_prom = grupo_control.Género.mean()\n",
    "print('Edades promedio: Tratam: {} Control: {}'.format(grupo_tratamiento_genero_prom, grupo_control_genero_prom))\n"
   ]
  },
  {
   "cell_type": "code",
   "execution_count": 14,
   "metadata": {},
   "outputs": [
    {
     "name": "stdout",
     "output_type": "stream",
     "text": [
      "Educ madre: Tratam: 0.136 Control: 0.14\n",
      "Puntajes promedio 2012: Tratam: 587.0043999999999 Control: 586.9444652\n",
      "Puntajes promedio 2013: Tratam: 620.0004 Control: 600.0004000000001\n"
     ]
    }
   ],
   "source": [
    "grupo_tratamiento_educmadre_prom = grupo_tratamiento['Educación de la madre'].mean()\n",
    "grupo_control_educmadre_prom = grupo_control['Educación de la madre'].mean()\n",
    "print('Educ madre: Tratam: {} Control: {}'.format(grupo_tratamiento_educmadre_prom, grupo_control_educmadre_prom))\n",
    "\n",
    "# deberíamos hacer un test estadístico de esta diferencia. Al parecer esta OK a ojo.\n",
    "grupo_tratamiento_puntaje_prom_2012 = grupo_tratamiento['Puntaje en matemáticas 2012'].mean()\n",
    "grupo_control_puntaje_prom_2012 = grupo_control['Puntaje en matemáticas 2012'].mean()\n",
    "print('Puntajes promedio 2012: Tratam: {} Control: {}'.format(grupo_tratamiento_puntaje_prom_2012, grupo_control_puntaje_prom_2012))\n",
    "\n",
    "grupo_tratamiento_puntaje_prom_2013 = grupo_tratamiento['Puntaje en matemáticas 2013'].mean()\n",
    "grupo_control_puntaje_prom_2013 = grupo_control['Puntaje en matemáticas 2013'].mean()\n",
    "print('Puntajes promedio 2013: Tratam: {} Control: {}'.format(grupo_tratamiento_puntaje_prom_2013, grupo_control_puntaje_prom_2013))\n"
   ]
  },
  {
   "cell_type": "code",
   "execution_count": null,
   "metadata": {},
   "outputs": [],
   "source": []
  }
 ],
 "metadata": {
  "kernelspec": {
   "display_name": "Python 3",
   "language": "python",
   "name": "python3"
  },
  "language_info": {
   "codemirror_mode": {
    "name": "ipython",
    "version": 3
   },
   "file_extension": ".py",
   "mimetype": "text/x-python",
   "name": "python",
   "nbconvert_exporter": "python",
   "pygments_lexer": "ipython3",
   "version": "3.6.5"
  }
 },
 "nbformat": 4,
 "nbformat_minor": 2
}
