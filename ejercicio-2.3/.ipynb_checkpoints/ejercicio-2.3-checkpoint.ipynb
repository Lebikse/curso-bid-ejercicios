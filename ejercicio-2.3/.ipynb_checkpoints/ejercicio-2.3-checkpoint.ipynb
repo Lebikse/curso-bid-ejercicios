{
 "cells": [
  {
   "cell_type": "code",
   "execution_count": 4,
   "metadata": {},
   "outputs": [
    {
     "name": "stdout",
     "output_type": "stream",
     "text": [
      "   id del estudiante  Puntaje en matemáticas 2012 (Linea Base)  \\\n",
      "0                  1                                     409.5   \n",
      "1                  2                                     641.6   \n",
      "\n",
      "   Puntaje en matemáticas 2013  Edad  Género  Educación de la madre  \\\n",
      "0                        436.8     6       0                      0   \n",
      "1                        663.3    10       0                      0   \n",
      "\n",
      "   Hogar pobre  Participa Tutoria  \n",
      "0            0                  1  \n",
      "1            0                  1  \n",
      "   id del estudiante  Puntaje en matemáticas 2012 (Linea Base)  \\\n",
      "0                251                                  414.7263   \n",
      "1                252                                  651.3687   \n",
      "\n",
      "   Puntaje en matemáticas 2013   Edad  Género  Educación de la madre  \\\n",
      "0                         422.5     6       0                      0   \n",
      "1                         654.6     9       0                      0   \n",
      "\n",
      "   Hogar pobre  Participa Tutoria  \n",
      "0            0                  0  \n",
      "1            0                  0  \n"
     ]
    }
   ],
   "source": [
    "import pandas as pd\n",
    "import matplotlib.pyplot as plt\n",
    "\n",
    "grupo_piloto = pd.read_csv('2.3_Datos_Variables_Instrumentales-piloto.csv', decimal=\",\")\n",
    "grupo_control = pd.read_csv('2.3_Datos_Variables_Instrumentales-control.csv', decimal=\",\")\n",
    "\n",
    "print(grupo_piloto.head(2))\n",
    "print(grupo_control.head(2))"
   ]
  },
  {
   "cell_type": "code",
   "execution_count": 8,
   "metadata": {},
   "outputs": [
    {
     "data": {
      "text/html": [
       "<div>\n",
       "<style scoped>\n",
       "    .dataframe tbody tr th:only-of-type {\n",
       "        vertical-align: middle;\n",
       "    }\n",
       "\n",
       "    .dataframe tbody tr th {\n",
       "        vertical-align: top;\n",
       "    }\n",
       "\n",
       "    .dataframe thead th {\n",
       "        text-align: right;\n",
       "    }\n",
       "</style>\n",
       "<table border=\"1\" class=\"dataframe\">\n",
       "  <thead>\n",
       "    <tr style=\"text-align: right;\">\n",
       "      <th></th>\n",
       "      <th>id del estudiante</th>\n",
       "      <th>Puntaje en matemáticas 2012 (Linea Base)</th>\n",
       "      <th>Puntaje en matemáticas 2013</th>\n",
       "      <th>Edad</th>\n",
       "      <th>Género</th>\n",
       "      <th>Educación de la madre</th>\n",
       "      <th>Hogar pobre</th>\n",
       "      <th>Participa Tutoria</th>\n",
       "    </tr>\n",
       "  </thead>\n",
       "  <tbody>\n",
       "  </tbody>\n",
       "</table>\n",
       "</div>"
      ],
      "text/plain": [
       "Empty DataFrame\n",
       "Columns: [id del estudiante, Puntaje en matemáticas 2012 (Linea Base), Puntaje en matemáticas 2013 , Edad, Género, Educación de la madre, Hogar pobre, Participa Tutoria]\n",
       "Index: []"
      ]
     },
     "execution_count": 8,
     "metadata": {},
     "output_type": "execute_result"
    }
   ],
   "source": [
    "filtro_participantes_piloto = grupo_piloto['Participa Tutoria']==1\n",
    "participantes_piloto=grupo_piloto[filtro_participantes_piloto]\n",
    "\n",
    "# NO HAY PARTICIPANTE EN EL GRUPO DE CONTROL\n",
    "# filtro_participantes_control = grupo_control['Participa Tutoria']==1\n",
    "# participantes_control=grupo_control[filtro_participantes_control]\n",
    "\n",
    "participantes_piloto.head()"
   ]
  }
 ],
 "metadata": {
  "kernelspec": {
   "display_name": "Python 3",
   "language": "python",
   "name": "python3"
  },
  "language_info": {
   "codemirror_mode": {
    "name": "ipython",
    "version": 3
   },
   "file_extension": ".py",
   "mimetype": "text/x-python",
   "name": "python",
   "nbconvert_exporter": "python",
   "pygments_lexer": "ipython3",
   "version": "3.6.5"
  }
 },
 "nbformat": 4,
 "nbformat_minor": 2
}
